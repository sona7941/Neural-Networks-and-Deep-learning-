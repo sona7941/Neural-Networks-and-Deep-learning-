{
 "cells": [
  {
   "cell_type": "markdown",
   "id": "459b5008",
   "metadata": {},
   "source": [
    "<center><b>NEURAL NETWORKS AND DEEP LEARNING (MDS471)</b></center>"
   ]
  },
  {
   "cell_type": "markdown",
   "id": "4fe715ce",
   "metadata": {},
   "source": [
    "<center><b>LAB 3: Implementation of MADALINE Neural Network</b></center>"
   ]
  },
  {
   "cell_type": "markdown",
   "id": "1bb8d7e2",
   "metadata": {},
   "source": [
    "#### Program 1: Smart Farming Decisions using MADALINE Neural Network: Irrigation and Equipment Deployment Automation.\n",
    "\n",
    "In modern agriculture, optimizing <b>water usage</b> and <b>resource deployment</b> is essential for sustainability and efficiency. Smart farms are increasingly equipped with IoT-based sensors that collect real-time environmental and operational data. Two critical decisions that impact farm productivity and resource conservation are:<br>\n",
    "1. <b>Irrigation Decision</b> – Whether to turn <b>irrigation ON or OFF</b>, based on soil moisture, weather conditions, and crop water needs.<br>\n",
    "2. <b>Farm Equipment Deployment</b> – Whether to <b>send tractors or harvesters</b> to the field, based on soil condition, crop readiness, and weather forecast.<br>\n",
    "\n",
    "<b>Implement a MADALINE (Multiple ADAptive LInear NEuron)</b> Neural\n",
    "Network to <b>automate both decisions</b> using sensor data."
   ]
  },
  {
   "cell_type": "markdown",
   "id": "a0ea0342",
   "metadata": {},
   "source": [
    "This program uses a MADALINE (Multiple ADAptive LInear NEuron) neural network to automate decision-making in smart farming:\n",
    "- **Irrigation Control** (ON/OFF) based on environmental data\n",
    "- **Equipment Deployment** (Tractor/Harvester) based on soil and crop status"
   ]
  },
  {
   "cell_type": "code",
   "execution_count": 20,
   "id": "e4173b64",
   "metadata": {},
   "outputs": [],
   "source": [
    "import numpy as np\n",
    "\n",
    "class MADALINE:\n",
    "    \"\"\"\n",
    "    MADALINE (Multiple ADAptive LInear NEuron) implementation.\n",
    "    Supports binary classification.\n",
    "    \"\"\"\n",
    "    def __init__(self, input_dim, n_hidden, learning_rate=0.01, max_epochs=100):\n",
    "        self.input_dim = input_dim\n",
    "        self.n_hidden = n_hidden\n",
    "        self.learning_rate = learning_rate\n",
    "        self.max_epochs = max_epochs\n",
    "        self.W = np.random.randn(n_hidden, input_dim + 1) * 0.1  # Hidden weights\n",
    "        self.V = np.random.randn(1, n_hidden + 1) * 0.1           # Output weights\n",
    "\n",
    "    def _activation(self, x):\n",
    "        return np.where(x >= 0, 1, -1)\n",
    "\n",
    "    def predict(self, X):\n",
    "        X_bias = np.hstack([X, np.ones((X.shape[0], 1))])  # Add bias to inputs\n",
    "        Z_in = self.W.dot(X_bias.T)\n",
    "        Z = self._activation(Z_in).T\n",
    "        Z_bias = np.hstack([Z, np.ones((Z.shape[0], 1))])\n",
    "        Y_in = self.V.dot(Z_bias.T)\n",
    "        Y = self._activation(Y_in)\n",
    "        return Y.ravel()\n",
    "\n",
    "    def fit(self, X, y):\n",
    "        y_mapped = np.where(y == 1, 1, -1)\n",
    "        X_bias = np.hstack([X, np.ones((X.shape[0], 1))])\n",
    "\n",
    "        for epoch in range(self.max_epochs):\n",
    "            errors = 0\n",
    "            for xi, target in zip(X_bias, y_mapped):\n",
    "                Zi = self.W.dot(xi)\n",
    "                Zi_act = self._activation(Zi)\n",
    "                Zi_act_bias = np.append(Zi_act, 1)\n",
    "                Yi_in = self.V.dot(Zi_act_bias)\n",
    "                Yi = self._activation(Yi_in)\n",
    "\n",
    "                if Yi != target:\n",
    "                    errors += 1\n",
    "                    for j in range(self.n_hidden):\n",
    "                        Zi_temp = Zi_act.copy()\n",
    "                        Zi_temp[j] *= -1\n",
    "                        Zi_temp_bias = np.append(Zi_temp, 1)\n",
    "                        Y_temp = self._activation(self.V.dot(Zi_temp_bias))\n",
    "                        if Y_temp == target:\n",
    "                            self.W[j, :] += self.learning_rate * target * xi\n",
    "                            self.V += self.learning_rate * target * Zi_temp_bias\n",
    "                            break\n",
    "            if errors == 0:\n",
    "                print(f\"Converged at epoch {epoch}\")\n",
    "                break\n",
    "        else:\n",
    "            print(\"Reached max epochs.\")"
   ]
  },
  {
   "cell_type": "code",
   "execution_count": 21,
   "id": "99bc1744",
   "metadata": {},
   "outputs": [],
   "source": [
    "# Dataset for Irrigation Decision: Soil moisture, Temperature, Water Need & Humidity\n",
    "irrigation_X = np.array([\n",
    "    [0.2, 30, 40, 0.5],  # Low moisture, moderate temp, moderate need\n",
    "    [0.8, 25, 60, 0.3],  # Sufficient moisture, cooler temp\n",
    "    [0.4, 28, 50, 0.6],\n",
    "    [0.1, 32, 30, 0.7],\n",
    "    [0.7, 22, 65, 0.2],\n",
    "])\n",
    "irrigation_y = np.array([1, 0, 1, 1, 0])  # 1 = Turn ON irrigation"
   ]
  },
  {
   "cell_type": "code",
   "execution_count": 22,
   "id": "cf0a6e20",
   "metadata": {},
   "outputs": [],
   "source": [
    "# Dataset for Equipment Deployment: Soil Condition, Crop Readiness, Weather\n",
    "equipment_X = np.array([\n",
    "    [0.3, 0.8, 0],    # Poor soil, ready crop\n",
    "    [0.7, 0.4, 0.6],  # Good soil, immature crop\n",
    "    [0.2, 0.9, 0.1],\n",
    "    [0.6, 0.3, 0.5],\n",
    "    [0.4, 0.7, 0.2],\n",
    "])\n",
    "equipment_y = np.array([1, 0, 1, 0, 1])  # 1 = Send equipment: Harvester"
   ]
  },
  {
   "cell_type": "code",
   "execution_count": 23,
   "id": "54897ad8",
   "metadata": {},
   "outputs": [
    {
     "name": "stdout",
     "output_type": "stream",
     "text": [
      "Reached max epochs.\n",
      "Converged at epoch 1\n"
     ]
    }
   ],
   "source": [
    "# Train models\n",
    "irrigator = MADALINE(input_dim=4, n_hidden=3, learning_rate=0.05, max_epochs=200)\n",
    "irrigator.fit(irrigation_X, irrigation_y)\n",
    "\n",
    "deployer = MADALINE(input_dim=3, n_hidden=3, learning_rate=0.05, max_epochs=200)\n",
    "deployer.fit(equipment_X, equipment_y)"
   ]
  },
  {
   "cell_type": "code",
   "execution_count": 24,
   "id": "395e31ef",
   "metadata": {},
   "outputs": [
    {
     "name": "stdout",
     "output_type": "stream",
     "text": [
      "Irrigation predictions: [1 1 1 1 1]\n",
      "Equipment deployment predictions: [ 1 -1  1 -1  1]\n"
     ]
    }
   ],
   "source": [
    "# Predictions\n",
    "print(\"Irrigation predictions:\", irrigator.predict(irrigation_X))\n",
    "print(\"Equipment deployment predictions:\", deployer.predict(equipment_X))"
   ]
  },
  {
   "cell_type": "code",
   "execution_count": 25,
   "id": "a874953f",
   "metadata": {},
   "outputs": [
    {
     "name": "stdout",
     "output_type": "stream",
     "text": [
      "New irrigation decision: [1]\n",
      "New equipment decision: [1]\n"
     ]
    }
   ],
   "source": [
    "# New decision\n",
    "new_irrig_input = np.array([[0.5, 29, 45, 0.6]])\n",
    "new_equip_input = np.array([[0.5, 0.6, 0.2]])\n",
    "print(\"New irrigation decision:\", irrigator.predict(new_irrig_input))\n",
    "print(\"New equipment decision:\", deployer.predict(new_equip_input))"
   ]
  },
  {
   "cell_type": "code",
   "execution_count": 26,
   "id": "85d3281f",
   "metadata": {},
   "outputs": [
    {
     "name": "stdout",
     "output_type": "stream",
     "text": [
      "\n",
      "Irrigation Decision Table:\n",
      "   Soil Moisture  Temperature  Water Need  Humidity  Actual  Predicted\n",
      "0            0.2         30.0        40.0       0.5       1          1\n",
      "1            0.8         25.0        60.0       0.3       0          1\n",
      "2            0.4         28.0        50.0       0.6       1          1\n",
      "3            0.1         32.0        30.0       0.7       1          1\n",
      "4            0.7         22.0        65.0       0.2       0          1\n",
      "Irrigation Accuracy: 0.6\n"
     ]
    }
   ],
   "source": [
    "import pandas as pd\n",
    "from sklearn.metrics import accuracy_score\n",
    "\n",
    "# IRRIGATION DECISION RESULTS\n",
    "preds_irrig = irrigator.predict(irrigation_X)\n",
    "df_irrig = pd.DataFrame(irrigation_X, columns=[\"Soil Moisture\", \"Temperature\", \"Water Need\", \"Humidity\"])\n",
    "df_irrig[\"Actual\"] = irrigation_y\n",
    "df_irrig[\"Predicted\"] = preds_irrig\n",
    "print(\"\\nIrrigation Decision Table:\")\n",
    "print(df_irrig)\n",
    "\n",
    "# Convert predictions from -1/1 to 0/1\n",
    "preds_irrig_binary = (preds_irrig + 1) // 2\n",
    "print(\"Irrigation Accuracy:\", accuracy_score(irrigation_y, preds_irrig))"
   ]
  },
  {
   "cell_type": "markdown",
   "id": "506ee913",
   "metadata": {},
   "source": [
    "#### Interpretation: Irrigation Decision\n",
    "Model correctly predicted 3 out of 5 cases. Accuracy of 60% suggests partial learning but may need more training data or better tuning."
   ]
  },
  {
   "cell_type": "code",
   "execution_count": 27,
   "id": "27774293",
   "metadata": {},
   "outputs": [
    {
     "name": "stdout",
     "output_type": "stream",
     "text": [
      "\n",
      "Equipment Deployment Table:\n",
      "   Soil Condition  Crop Readiness  Weather  Actual  Predicted\n",
      "0             0.3             0.8      0.0       1          1\n",
      "1             0.7             0.4      0.6       0         -1\n",
      "2             0.2             0.9      0.1       1          1\n",
      "3             0.6             0.3      0.5       0         -1\n",
      "4             0.4             0.7      0.2       1          1\n",
      "Equipment Deployment Accuracy: 0.6\n"
     ]
    }
   ],
   "source": [
    "# EQUIPMENT DEPLOYMENT RESULTS\n",
    "preds_equip = deployer.predict(equipment_X)\n",
    "df_equip = pd.DataFrame(equipment_X, columns=[\"Soil Condition\", \"Crop Readiness\", \"Weather\"])\n",
    "df_equip[\"Actual\"] = equipment_y\n",
    "df_equip[\"Predicted\"] = preds_equip\n",
    "print(\"\\nEquipment Deployment Table:\")\n",
    "print(df_equip)\n",
    "preds_equip_binary = (preds_equip + 1) // 2\n",
    "print(\"Equipment Deployment Accuracy:\", accuracy_score(equipment_y, preds_equip))"
   ]
  },
  {
   "cell_type": "markdown",
   "id": "206dadd7",
   "metadata": {},
   "source": [
    "#### Interpretation: Equipment Deployment\n",
    "The model over-predicted positive outcomes, resulting in only 60% accuracy. Indicates bias toward deploying equipment regardless of actual need."
   ]
  },
  {
   "cell_type": "markdown",
   "id": "b45a0314",
   "metadata": {},
   "source": [
    "#### Program 2: A startup named SmartFarm AI is building a solution for predicting crop yield to assist farmers in improving productivity. The startup has collected the following data from hundreds of farms over the last five years:<br>\n",
    "1. Rainfall (in mm during the season)\n",
    "2. Average temperature (°C)\n",
    "3. Soil pH level\n",
    "4. Fertilizer usage (kg/hectare)\n",
    "5. Pesticide usage (kg/hectare)\n",
    "6. Type of crop (wheat, rice, or maize)\n",
    "7. Final yield (in quintals per hectare)<br>\n",
    "\n",
    "Some additional assumptions:<br><br>\n",
    "A. The startup wants to develop both regression models (to predict exact yield) and classification models (to label crops as high yield or low yield for quick decision-making).<br>\n",
    "B. There are cases where crop type is unknown or needs to be generalized.<br>\n",
    "C. Budget and computational constraints mean the models should be as efficient and interpretable as possible.<br>\n",
    "\n",
    "Problem Understanding:Understand the Scenario and define the Problem\n",
    "\n",
    "Dataset Creation:<br><br>\n",
    "\n",
    "a. Simulate or create a synthetic dataset (minimum 50 rows) with the\n",
    "mentioned features.<br>\n",
    "b. Encode categorical variables (like crop type) appropriately.<br>\n",
    "c. Normalize numerical features.<br>\n",
    "d. Try out at least two different loss functions for each model.<br>\n",
    "e. Use at least two different optimizers and compare their impact.<br>\n",
    "f. For the regression model:Use metrics like MSE, MAE, and R2 score<br>\n",
    "g. For the classification model:Use metrics like Accuracy, Precision,\n",
    "Recall, F1-score<br>\n",
    "h. Create comparison tables or plots for each loss-optimizer combination.<br>\n",
    "i. Discuss which model combination performed best and why.<br>\n",
    "\n",
    "Conclusion: Prepare a summary report of<br>\n",
    "* The chosen loss functions\n",
    "* Optimizers that gave the best results\n",
    "* Practical implications for the SmartFarm AI team"
   ]
  },
  {
   "cell_type": "markdown",
   "id": "cdd622c0",
   "metadata": {},
   "source": [
    "Predicting Crop Yield using Regression and Classification Models\n",
    "\n",
    "This program simulates a dataset with real-world features such as:\n",
    "- Rainfall, Temperature, Soil pH, Fertilizer, Pesticide, Crop Type\n",
    "\n",
    "It performs:\n",
    "1. **Regression** to predict exact crop yield\n",
    "2. **Classification** to label crops as **High** or **Low** yield\n",
    "\n",
    "Multiple loss functions and optimizers are compared, and metrics like **MAE, MSE, R²**, and **F1-score** are used."
   ]
  },
  {
   "cell_type": "code",
   "execution_count": 40,
   "id": "e785bdd8",
   "metadata": {},
   "outputs": [],
   "source": [
    "# Preparing synthetic dataset for Program 2 - Crop Yield Prediction\n",
    "import pandas as pd\n",
    "import numpy as np\n",
    "\n",
    "np.random.seed(42)\n",
    "\n",
    "# Create a synthetic dataset with 60 samples\n",
    "n_samples = 60\n",
    "rainfall = np.random.uniform(200, 1000, n_samples)         # in mm\n",
    "temperature = np.random.uniform(20, 35, n_samples)         # in Celsius\n",
    "soil_ph = np.random.uniform(5.5, 7.5, n_samples)           # pH level\n",
    "fertilizer = np.random.uniform(50, 300, n_samples)         # kg/ha\n",
    "pesticide = np.random.uniform(1, 20, n_samples)            # kg/ha\n",
    "crops = np.random.choice(['wheat', 'rice', 'maize'], n_samples)"
   ]
  },
  {
   "cell_type": "code",
   "execution_count": 41,
   "id": "5e6249c8",
   "metadata": {},
   "outputs": [],
   "source": [
    "# Map crop type to numeric\n",
    "crop_map = {'wheat': 0, 'rice': 1, 'maize': 2}\n",
    "crop_encoded = np.vectorize(crop_map.get)(crops)"
   ]
  },
  {
   "cell_type": "code",
   "execution_count": 42,
   "id": "06a5b406",
   "metadata": {},
   "outputs": [],
   "source": [
    "# Create a target yield (quintals/ha) with some pattern\n",
    "yield_ = (\n",
    "    0.02 * rainfall +\n",
    "    0.5 * temperature -\n",
    "    2 * np.abs(soil_ph - 6.5) +\n",
    "    0.03 * fertilizer -\n",
    "    0.2 * pesticide +\n",
    "    crop_encoded * 5 +\n",
    "    np.random.normal(0, 5, n_samples)\n",
    ")"
   ]
  },
  {
   "cell_type": "code",
   "execution_count": 43,
   "id": "ccc455a4",
   "metadata": {},
   "outputs": [
    {
     "data": {
      "text/html": [
       "<div>\n",
       "<style scoped>\n",
       "    .dataframe tbody tr th:only-of-type {\n",
       "        vertical-align: middle;\n",
       "    }\n",
       "\n",
       "    .dataframe tbody tr th {\n",
       "        vertical-align: top;\n",
       "    }\n",
       "\n",
       "    .dataframe thead th {\n",
       "        text-align: right;\n",
       "    }\n",
       "</style>\n",
       "<table border=\"1\" class=\"dataframe\">\n",
       "  <thead>\n",
       "    <tr style=\"text-align: right;\">\n",
       "      <th></th>\n",
       "      <th>Rainfall</th>\n",
       "      <th>Temperature</th>\n",
       "      <th>Soil_pH</th>\n",
       "      <th>Fertilizer</th>\n",
       "      <th>Pesticide</th>\n",
       "      <th>Crop_Type</th>\n",
       "      <th>Crop_Code</th>\n",
       "      <th>Yield</th>\n",
       "    </tr>\n",
       "  </thead>\n",
       "  <tbody>\n",
       "    <tr>\n",
       "      <th>0</th>\n",
       "      <td>499.632095</td>\n",
       "      <td>25.830159</td>\n",
       "      <td>7.114880</td>\n",
       "      <td>135.266588</td>\n",
       "      <td>18.868713</td>\n",
       "      <td>wheat</td>\n",
       "      <td>0</td>\n",
       "      <td>5.755879</td>\n",
       "    </tr>\n",
       "    <tr>\n",
       "      <th>1</th>\n",
       "      <td>960.571445</td>\n",
       "      <td>24.070235</td>\n",
       "      <td>7.292183</td>\n",
       "      <td>78.368380</td>\n",
       "      <td>19.124643</td>\n",
       "      <td>rice</td>\n",
       "      <td>1</td>\n",
       "      <td>28.066366</td>\n",
       "    </tr>\n",
       "    <tr>\n",
       "      <th>2</th>\n",
       "      <td>785.595153</td>\n",
       "      <td>32.431063</td>\n",
       "      <td>6.136007</td>\n",
       "      <td>281.173405</td>\n",
       "      <td>18.382423</td>\n",
       "      <td>maize</td>\n",
       "      <td>2</td>\n",
       "      <td>44.695325</td>\n",
       "    </tr>\n",
       "    <tr>\n",
       "      <th>3</th>\n",
       "      <td>678.926787</td>\n",
       "      <td>25.351300</td>\n",
       "      <td>5.720104</td>\n",
       "      <td>269.334838</td>\n",
       "      <td>8.033015</td>\n",
       "      <td>maize</td>\n",
       "      <td>2</td>\n",
       "      <td>34.928920</td>\n",
       "    </tr>\n",
       "    <tr>\n",
       "      <th>4</th>\n",
       "      <td>324.814912</td>\n",
       "      <td>24.214018</td>\n",
       "      <td>5.955870</td>\n",
       "      <td>114.485407</td>\n",
       "      <td>1.293676</td>\n",
       "      <td>maize</td>\n",
       "      <td>2</td>\n",
       "      <td>38.852931</td>\n",
       "    </tr>\n",
       "  </tbody>\n",
       "</table>\n",
       "</div>"
      ],
      "text/plain": [
       "     Rainfall  Temperature   Soil_pH  Fertilizer  Pesticide Crop_Type  \\\n",
       "0  499.632095    25.830159  7.114880  135.266588  18.868713     wheat   \n",
       "1  960.571445    24.070235  7.292183   78.368380  19.124643      rice   \n",
       "2  785.595153    32.431063  6.136007  281.173405  18.382423     maize   \n",
       "3  678.926787    25.351300  5.720104  269.334838   8.033015     maize   \n",
       "4  324.814912    24.214018  5.955870  114.485407   1.293676     maize   \n",
       "\n",
       "   Crop_Code      Yield  \n",
       "0          0   5.755879  \n",
       "1          1  28.066366  \n",
       "2          2  44.695325  \n",
       "3          2  34.928920  \n",
       "4          2  38.852931  "
      ]
     },
     "execution_count": 43,
     "metadata": {},
     "output_type": "execute_result"
    }
   ],
   "source": [
    "# Create DataFrame\n",
    "df = pd.DataFrame({\n",
    "    'Rainfall': rainfall,\n",
    "    'Temperature': temperature,\n",
    "    'Soil_pH': soil_ph,\n",
    "    'Fertilizer': fertilizer,\n",
    "    'Pesticide': pesticide,\n",
    "    'Crop_Type': crops,\n",
    "    'Crop_Code': crop_encoded,\n",
    "    'Yield': yield_\n",
    "})\n",
    "df.head()"
   ]
  },
  {
   "cell_type": "code",
   "execution_count": 44,
   "id": "dc21f20f",
   "metadata": {},
   "outputs": [],
   "source": [
    "# DATA PREPROCESSING\n",
    "\n",
    "from sklearn.model_selection import train_test_split\n",
    "from sklearn.preprocessing import StandardScaler\n",
    "from sklearn.linear_model import LinearRegression, SGDRegressor, LogisticRegression\n",
    "from sklearn.metrics import (\n",
    "    mean_squared_error, mean_absolute_error, r2_score,\n",
    "    accuracy_score, precision_score, recall_score, f1_score\n",
    ")\n",
    "\n",
    "# Features and target for regression\n",
    "X = df[['Rainfall', 'Temperature', 'Soil_pH', 'Fertilizer', 'Pesticide', 'Crop_Code']]\n",
    "y_reg = df['Yield']"
   ]
  },
  {
   "cell_type": "code",
   "execution_count": 45,
   "id": "3c06725d",
   "metadata": {},
   "outputs": [],
   "source": [
    "# Classification: Label as High (1) or Low (0) yield based on median split\n",
    "median_yield = df['Yield'].median()\n",
    "y_clf = (df['Yield'] >= median_yield).astype(int)"
   ]
  },
  {
   "cell_type": "code",
   "execution_count": 46,
   "id": "58714dfd",
   "metadata": {},
   "outputs": [],
   "source": [
    "# Split data\n",
    "X_train, X_test, y_train_reg, y_test_reg, y_train_clf, y_test_clf = train_test_split(\n",
    "    X, y_reg, y_clf, test_size=0.2, random_state=42\n",
    ")"
   ]
  },
  {
   "cell_type": "code",
   "execution_count": 47,
   "id": "b2269153",
   "metadata": {},
   "outputs": [],
   "source": [
    "# Normalize features\n",
    "scaler = StandardScaler()\n",
    "X_train_scaled = scaler.fit_transform(X_train)\n",
    "X_test_scaled = scaler.transform(X_test)"
   ]
  },
  {
   "cell_type": "code",
   "execution_count": 48,
   "id": "41fae875",
   "metadata": {},
   "outputs": [
    {
     "data": {
      "text/html": [
       "<div>\n",
       "<style scoped>\n",
       "    .dataframe tbody tr th:only-of-type {\n",
       "        vertical-align: middle;\n",
       "    }\n",
       "\n",
       "    .dataframe tbody tr th {\n",
       "        vertical-align: top;\n",
       "    }\n",
       "\n",
       "    .dataframe thead th {\n",
       "        text-align: right;\n",
       "    }\n",
       "</style>\n",
       "<table border=\"1\" class=\"dataframe\">\n",
       "  <thead>\n",
       "    <tr style=\"text-align: right;\">\n",
       "      <th></th>\n",
       "      <th>MSE</th>\n",
       "      <th>MAE</th>\n",
       "      <th>R2</th>\n",
       "    </tr>\n",
       "  </thead>\n",
       "  <tbody>\n",
       "    <tr>\n",
       "      <th>LinearRegression</th>\n",
       "      <td>34.904101</td>\n",
       "      <td>4.105586</td>\n",
       "      <td>0.697032</td>\n",
       "    </tr>\n",
       "    <tr>\n",
       "      <th>SGDRegressor (Huber)</th>\n",
       "      <td>939.336271</td>\n",
       "      <td>28.707987</td>\n",
       "      <td>-7.153437</td>\n",
       "    </tr>\n",
       "  </tbody>\n",
       "</table>\n",
       "</div>"
      ],
      "text/plain": [
       "                             MSE        MAE        R2\n",
       "LinearRegression       34.904101   4.105586  0.697032\n",
       "SGDRegressor (Huber)  939.336271  28.707987 -7.153437"
      ]
     },
     "execution_count": 48,
     "metadata": {},
     "output_type": "execute_result"
    }
   ],
   "source": [
    "# REGRESSION MODELS\n",
    "\n",
    "reg1 = LinearRegression()\n",
    "reg2 = SGDRegressor(loss='huber', max_iter=1000, random_state=42)\n",
    "\n",
    "models = {'LinearRegression': reg1, 'SGDRegressor (Huber)': reg2}\n",
    "results_reg = {}\n",
    "\n",
    "for name, model in models.items():\n",
    "    model.fit(X_train_scaled, y_train_reg)\n",
    "    y_pred = model.predict(X_test_scaled)\n",
    "    results_reg[name] = {\n",
    "        'MSE': mean_squared_error(y_test_reg, y_pred),\n",
    "        'MAE': mean_absolute_error(y_test_reg, y_pred),\n",
    "        'R2': r2_score(y_test_reg, y_pred)\n",
    "    }\n",
    "\n",
    "pd.DataFrame(results_reg).T"
   ]
  },
  {
   "cell_type": "code",
   "execution_count": 49,
   "id": "36f513f3",
   "metadata": {},
   "outputs": [
    {
     "data": {
      "text/html": [
       "<div>\n",
       "<style scoped>\n",
       "    .dataframe tbody tr th:only-of-type {\n",
       "        vertical-align: middle;\n",
       "    }\n",
       "\n",
       "    .dataframe tbody tr th {\n",
       "        vertical-align: top;\n",
       "    }\n",
       "\n",
       "    .dataframe thead th {\n",
       "        text-align: right;\n",
       "    }\n",
       "</style>\n",
       "<table border=\"1\" class=\"dataframe\">\n",
       "  <thead>\n",
       "    <tr style=\"text-align: right;\">\n",
       "      <th></th>\n",
       "      <th>Accuracy</th>\n",
       "      <th>Precision</th>\n",
       "      <th>Recall</th>\n",
       "      <th>F1-score</th>\n",
       "    </tr>\n",
       "  </thead>\n",
       "  <tbody>\n",
       "    <tr>\n",
       "      <th>LogisticRegression</th>\n",
       "      <td>0.916667</td>\n",
       "      <td>0.833333</td>\n",
       "      <td>1.0</td>\n",
       "      <td>0.909091</td>\n",
       "    </tr>\n",
       "    <tr>\n",
       "      <th>SGDClassifier (log_loss)</th>\n",
       "      <td>0.916667</td>\n",
       "      <td>0.833333</td>\n",
       "      <td>1.0</td>\n",
       "      <td>0.909091</td>\n",
       "    </tr>\n",
       "  </tbody>\n",
       "</table>\n",
       "</div>"
      ],
      "text/plain": [
       "                          Accuracy  Precision  Recall  F1-score\n",
       "LogisticRegression        0.916667   0.833333     1.0  0.909091\n",
       "SGDClassifier (log_loss)  0.916667   0.833333     1.0  0.909091"
      ]
     },
     "execution_count": 49,
     "metadata": {},
     "output_type": "execute_result"
    }
   ],
   "source": [
    "from sklearn.linear_model import SGDClassifier\n",
    "\n",
    "# CLASSIFICATION MODELS\n",
    "clf1 = LogisticRegression()\n",
    "clf2 = SGDClassifier(loss='log', max_iter=1000, random_state=42)\n",
    "\n",
    "results_clf = {}\n",
    "\n",
    "for name, clf in zip(['LogisticRegression', 'SGDClassifier (log_loss)'], [clf1, clf2]):\n",
    "    clf.fit(X_train_scaled, y_train_clf)\n",
    "    preds = clf.predict(X_test_scaled)\n",
    "\n",
    "    results_clf[name] = {\n",
    "        'Accuracy': accuracy_score(y_test_clf, preds),\n",
    "        'Precision': precision_score(y_test_clf, preds),\n",
    "        'Recall': recall_score(y_test_clf, preds),\n",
    "        'F1-score': f1_score(y_test_clf, preds)\n",
    "    }\n",
    "\n",
    "pd.DataFrame(results_clf).T"
   ]
  },
  {
   "cell_type": "code",
   "execution_count": 50,
   "id": "6057a9b5",
   "metadata": {},
   "outputs": [
    {
     "data": {
      "image/png": "[encoded data removed]",
      "text/plain": [
       "<Figure size 720x432 with 1 Axes>"
      ]
     },
     "metadata": {
      "needs_background": "light"
     },
     "output_type": "display_data"
    }
   ],
   "source": [
    "import matplotlib.pyplot as plt\n",
    "import seaborn as sns\n",
    "\n",
    "# Regression bar chart\n",
    "df_reg = pd.DataFrame(results_reg).T\n",
    "df_reg.plot(kind='bar', figsize=(10, 6), title=\"Regression Metrics Comparison\")\n",
    "plt.xticks(rotation=0)\n",
    "plt.grid(True)\n",
    "plt.show()"
   ]
  },
  {
   "cell_type": "markdown",
   "id": "2e54f79f",
   "metadata": {},
   "source": [
    "#### Interpretation: Regression Metrics \n",
    "The SGDRegressor (Huber) significantly underperformed compared to LinearRegression, as indicated by:\n",
    "\n",
    "\n",
    "A very high MSE (Mean Squared Error), suggesting large deviations from the true values.\n",
    "\n",
    "\n",
    "A higher MAE (Mean Absolute Error), confirming consistent errors.\n",
    "\n",
    "\n",
    "A low R² score, indicating that the model explains very little variance in the target.\n"
   ]
  },
  {
   "cell_type": "code",
   "execution_count": 51,
   "id": "a67559bb",
   "metadata": {},
   "outputs": [
    {
     "data": {
      "image/png": "[encoded data removed]",
      "text/plain": [
       "<Figure size 720x432 with 1 Axes>"
      ]
     },
     "metadata": {
      "needs_background": "light"
     },
     "output_type": "display_data"
    }
   ],
   "source": [
    "# Classification bar chart\n",
    "df_clf = pd.DataFrame(results_clf).T\n",
    "df_clf.plot(kind='bar', figsize=(10, 6), title=\"Classification Metrics Comparison\")\n",
    "plt.xticks(rotation=0)\n",
    "plt.grid(True)\n",
    "plt.show()"
   ]
  },
  {
   "cell_type": "markdown",
   "id": "977b41f6",
   "metadata": {},
   "source": [
    "#### Interpretation: Classification Metrics:\n",
    "Both LogisticRegression and SGDClassifier (log_loss) performed similarly across all metrics:\n",
    "\n",
    "\n",
    "Accuracy, Recall, and F1-Score are all above 90%, showing strong classification capability.\n",
    "\n",
    "\n",
    "Slight drop in Precision (~83%) indicates a few false positives.\n",
    "\n",
    "\n",
    "Consistent Recall (1.0) means no false negatives, i.e., all positives were correctly detected."
   ]
  }
 ],
 "metadata": {
  "kernelspec": {
   "display_name": "Python 3 (ipykernel)",
   "language": "python",
   "name": "python3"
  },
  "language_info": {
   "codemirror_mode": {
    "name": "ipython",
    "version": 3
   },
   "file_extension": ".py",
   "mimetype": "text/x-python",
   "name": "python",
   "nbconvert_exporter": "python",
   "pygments_lexer": "ipython3",
   "version": "3.9.12"
  }
 },
 "nbformat": 4,
 "nbformat_minor": 5
}
